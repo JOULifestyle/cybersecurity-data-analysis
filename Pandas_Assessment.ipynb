{
 "cells": [
  {
   "cell_type": "markdown",
   "id": "65f9ad1f-ff1b-48a4-96e6-1d8ec51d15e8",
   "metadata": {},
   "source": [
    "## Analyzing Student Grades and Visualizing the Results with Pandas\n",
    "\n",
    "#### The task is to work with a small dataset of student grades using pandas by analyzing, manipulating, and visualizing the data- without using Matplotlib.\n",
    "#### By Israel Olasehinde"
   ]
  },
  {
   "cell_type": "code",
   "execution_count": 1,
   "id": "5b34de6e-27a6-4428-b644-1ce0c7c0bf0a",
   "metadata": {},
   "outputs": [],
   "source": [
    "# Importing pandas into the environment\n",
    "import pandas as pd"
   ]
  },
  {
   "cell_type": "code",
   "execution_count": 27,
   "id": "b4359309-e163-4909-af63-2d41b51a378a",
   "metadata": {},
   "outputs": [],
   "source": [
    "# Creating the Dataframe\n",
    "data = {\n",
    "    'Students': ['Amara', 'Kwame', 'Zainab', 'John'],\n",
    "    'Math_Scores': [85, 78, 92, 70],\n",
    "    'English_Scores': [88, 74, 90, 65]\n",
    "}"
   ]
  },
  {
   "cell_type": "code",
   "execution_count": 28,
   "id": "f6bf3f56-4003-4735-8089-de180f46b9d2",
   "metadata": {},
   "outputs": [],
   "source": [
    "results = pd.DataFrame(data, index=[1,2,3,4])"
   ]
  },
  {
   "cell_type": "code",
   "execution_count": 29,
   "id": "65e8c003-6400-4f24-ba3f-d4fcae54ed1c",
   "metadata": {},
   "outputs": [
    {
     "data": {
      "text/html": [
       "<div>\n",
       "<style scoped>\n",
       "    .dataframe tbody tr th:only-of-type {\n",
       "        vertical-align: middle;\n",
       "    }\n",
       "\n",
       "    .dataframe tbody tr th {\n",
       "        vertical-align: top;\n",
       "    }\n",
       "\n",
       "    .dataframe thead th {\n",
       "        text-align: right;\n",
       "    }\n",
       "</style>\n",
       "<table border=\"1\" class=\"dataframe\">\n",
       "  <thead>\n",
       "    <tr style=\"text-align: right;\">\n",
       "      <th></th>\n",
       "      <th>Students</th>\n",
       "      <th>Math_Scores</th>\n",
       "      <th>English_Scores</th>\n",
       "    </tr>\n",
       "  </thead>\n",
       "  <tbody>\n",
       "    <tr>\n",
       "      <th>1</th>\n",
       "      <td>Amara</td>\n",
       "      <td>85</td>\n",
       "      <td>88</td>\n",
       "    </tr>\n",
       "    <tr>\n",
       "      <th>2</th>\n",
       "      <td>Kwame</td>\n",
       "      <td>78</td>\n",
       "      <td>74</td>\n",
       "    </tr>\n",
       "    <tr>\n",
       "      <th>3</th>\n",
       "      <td>Zainab</td>\n",
       "      <td>92</td>\n",
       "      <td>90</td>\n",
       "    </tr>\n",
       "    <tr>\n",
       "      <th>4</th>\n",
       "      <td>John</td>\n",
       "      <td>70</td>\n",
       "      <td>65</td>\n",
       "    </tr>\n",
       "  </tbody>\n",
       "</table>\n",
       "</div>"
      ],
      "text/plain": [
       "  Students  Math_Scores  English_Scores\n",
       "1    Amara           85              88\n",
       "2    Kwame           78              74\n",
       "3   Zainab           92              90\n",
       "4     John           70              65"
      ]
     },
     "execution_count": 29,
     "metadata": {},
     "output_type": "execute_result"
    }
   ],
   "source": [
    "results"
   ]
  },
  {
   "cell_type": "code",
   "execution_count": 30,
   "id": "53754ed5-e40e-4164-ab10-ab6717f36a7b",
   "metadata": {},
   "outputs": [],
   "source": [
    "# Adding an Average Column\n",
    "results['Average_Scores'] = results[['Math_Scores', 'English_Scores']].mean(axis=1)\n"
   ]
  },
  {
   "cell_type": "code",
   "execution_count": 31,
   "id": "54464a62-a482-4887-afae-f804060058b2",
   "metadata": {},
   "outputs": [
    {
     "data": {
      "text/html": [
       "<div>\n",
       "<style scoped>\n",
       "    .dataframe tbody tr th:only-of-type {\n",
       "        vertical-align: middle;\n",
       "    }\n",
       "\n",
       "    .dataframe tbody tr th {\n",
       "        vertical-align: top;\n",
       "    }\n",
       "\n",
       "    .dataframe thead th {\n",
       "        text-align: right;\n",
       "    }\n",
       "</style>\n",
       "<table border=\"1\" class=\"dataframe\">\n",
       "  <thead>\n",
       "    <tr style=\"text-align: right;\">\n",
       "      <th></th>\n",
       "      <th>Students</th>\n",
       "      <th>Math_Scores</th>\n",
       "      <th>English_Scores</th>\n",
       "      <th>Average_Scores</th>\n",
       "    </tr>\n",
       "  </thead>\n",
       "  <tbody>\n",
       "    <tr>\n",
       "      <th>1</th>\n",
       "      <td>Amara</td>\n",
       "      <td>85</td>\n",
       "      <td>88</td>\n",
       "      <td>86.5</td>\n",
       "    </tr>\n",
       "    <tr>\n",
       "      <th>2</th>\n",
       "      <td>Kwame</td>\n",
       "      <td>78</td>\n",
       "      <td>74</td>\n",
       "      <td>76.0</td>\n",
       "    </tr>\n",
       "    <tr>\n",
       "      <th>3</th>\n",
       "      <td>Zainab</td>\n",
       "      <td>92</td>\n",
       "      <td>90</td>\n",
       "      <td>91.0</td>\n",
       "    </tr>\n",
       "    <tr>\n",
       "      <th>4</th>\n",
       "      <td>John</td>\n",
       "      <td>70</td>\n",
       "      <td>65</td>\n",
       "      <td>67.5</td>\n",
       "    </tr>\n",
       "  </tbody>\n",
       "</table>\n",
       "</div>"
      ],
      "text/plain": [
       "  Students  Math_Scores  English_Scores  Average_Scores\n",
       "1    Amara           85              88            86.5\n",
       "2    Kwame           78              74            76.0\n",
       "3   Zainab           92              90            91.0\n",
       "4     John           70              65            67.5"
      ]
     },
     "execution_count": 31,
     "metadata": {},
     "output_type": "execute_result"
    }
   ],
   "source": [
    "results"
   ]
  },
  {
   "cell_type": "code",
   "execution_count": 32,
   "id": "109c0549-3fd9-4e49-9321-85a1c69e3b05",
   "metadata": {},
   "outputs": [],
   "source": [
    "# Finding the Top Student\n",
    "Top_student = results.loc[results['Average_Scores'].idxmax(), 'Students']"
   ]
  },
  {
   "cell_type": "code",
   "execution_count": 33,
   "id": "8c2460a7-3ff0-40b8-bd8b-857f4f1caf33",
   "metadata": {},
   "outputs": [
    {
     "data": {
      "text/plain": [
       "'Zainab'"
      ]
     },
     "execution_count": 33,
     "metadata": {},
     "output_type": "execute_result"
    }
   ],
   "source": [
    "Top_student"
   ]
  },
  {
   "cell_type": "code",
   "execution_count": 37,
   "id": "00dc8dc1-9ef8-4ccf-83eb-26fe86c7d5a0",
   "metadata": {},
   "outputs": [
    {
     "data": {
      "text/plain": [
       "<Axes: title={'center': 'Average Student Score Distribution'}, ylabel='Frequency'>"
      ]
     },
     "execution_count": 37,
     "metadata": {},
     "output_type": "execute_result"
    },
    {
     "data": {
      "image/png": "[encoded data removed]",
      "text/plain": [
       "<Figure size 640x480 with 1 Axes>"
      ]
     },
     "metadata": {},
     "output_type": "display_data"
    }
   ],
   "source": [
    "#  Visualizing the data by creating histogram without Matplotlib\n",
    "results['Average_Scores'].plot(kind='hist', bins=4, title='Average Student Score Distribution')"
   ]
  },
  {
   "cell_type": "code",
   "execution_count": null,
   "id": "3d333b97-0b7c-4b80-8e2e-b84dbc1ee5a6",
   "metadata": {},
   "outputs": [],
   "source": []
  }
 ],
 "metadata": {
  "kernelspec": {
   "display_name": "Python 3 (ipykernel)",
   "language": "python",
   "name": "python3"
  },
  "language_info": {
   "codemirror_mode": {
    "name": "ipython",
    "version": 3
   },
   "file_extension": ".py",
   "mimetype": "text/x-python",
   "name": "python",
   "nbconvert_exporter": "python",
   "pygments_lexer": "ipython3",
   "version": "3.13.2"
  }
 },
 "nbformat": 4,
 "nbformat_minor": 5
}
