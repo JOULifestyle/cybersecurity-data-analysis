{
 "cells": [
  {
   "cell_type": "markdown",
   "id": "afa7cd32-d346-41d8-aeb4-6045bd2f7bb4",
   "metadata": {},
   "source": [
    "## Cybersecurity Data Analysis With Pandas"
   ]
  },
  {
   "cell_type": "markdown",
   "id": "0aedd343-430f-4d76-9bef-a0785224d422",
   "metadata": {},
   "source": [
    "##### This project is to analyze cybersecurity incident data using Python and Pandas to uncover trends and patterns in network status, source and destination IP, time stamp, and threat level. The project involved data importation and exploratory analysis to support proactive threat identification and informed security decision-making."
   ]
  },
  {
   "cell_type": "markdown",
   "id": "8e5f9c4c-21ec-4a1a-b96d-a99c6c2e2b01",
   "metadata": {},
   "source": [
    "##### Installing and importing pandas"
   ]
  },
  {
   "cell_type": "code",
   "execution_count": 1,
   "id": "5b36f9ca-406e-464f-ac47-ba7952c75e6c",
   "metadata": {},
   "outputs": [],
   "source": [
    "import pandas as pd\n"
   ]
  },
  {
   "cell_type": "markdown",
   "id": "06f3ff90-c76c-4513-b5b8-6e86d7495e45",
   "metadata": {},
   "source": [
    "##### Loading the dataset from github"
   ]
  },
  {
   "cell_type": "code",
   "execution_count": 2,
   "id": "7ba07b4b-9801-4eb4-8821-953d53966d3a",
   "metadata": {},
   "outputs": [],
   "source": [
    "url= \"https://raw.githubusercontent.com/ritaafrica/data/refs/heads/main/network_traffic_data.csv\"\n",
    "df = pd.read_csv(url)"
   ]
  },
  {
   "cell_type": "markdown",
   "id": "1b8a27ee-28a4-477f-a0dd-e702221b423b",
   "metadata": {},
   "source": [
    "##### Basic Data Exploration"
   ]
  },
  {
   "cell_type": "code",
   "execution_count": 5,
   "id": "49ccd1b2-dcb7-4727-bf08-24cd9d6ae291",
   "metadata": {},
   "outputs": [
    {
     "name": "stdout",
     "output_type": "stream",
     "text": [
      "             Timestamp     Source_IP  Destination_IP Protocol   Port  \\\n",
      "0  2025-03-19 13:04:10     10.0.0.15    192.168.1.20      TCP    NaN   \n",
      "1  2025-03-19 13:03:40  192.168.1.13  172.217.169.46     ICMP  443.0   \n",
      "2  2025-03-19 13:03:10      10.0.0.5    203.0.113.99     HTTP  443.0   \n",
      "3  2025-03-19 13:02:40      10.0.0.9    192.168.1.20      TCP    NaN   \n",
      "4  2025-03-19 13:02:10   192.168.1.4  172.217.169.46      FTP    NaN   \n",
      "5  2025-03-19 13:01:40     10.0.0.43  172.217.169.46      DNS   53.0   \n",
      "6  2025-03-19 13:01:10     10.0.0.26        10.0.0.5     ICMP   53.0   \n",
      "\n",
      "   Bytes_Sent  Bytes_Received   Status Threat_Level  \n",
      "0        5411            8989  Blocked          Low  \n",
      "1        4999           11808  Allowed       Medium  \n",
      "2        6360           10852  Allowed       Medium  \n",
      "3        4011           14314  Blocked          Low  \n",
      "4        5254            8718  Blocked       Medium  \n",
      "5        6915           12981  Allowed          Low  \n",
      "6        3431            2826  Allowed         High  \n"
     ]
    }
   ],
   "source": [
    "print(df.head(7))"
   ]
  },
  {
   "cell_type": "code",
   "execution_count": 4,
   "id": "1b0d8e04-1dfa-4845-b5b7-70993d722797",
   "metadata": {},
   "outputs": [
    {
     "data": {
      "text/plain": [
       "(1000, 9)"
      ]
     },
     "execution_count": 4,
     "metadata": {},
     "output_type": "execute_result"
    }
   ],
   "source": [
    "df.shape\n"
   ]
  },
  {
   "cell_type": "markdown",
   "id": "06ed7e3f-770e-4036-bfe7-f9f5c8fed2b3",
   "metadata": {},
   "source": [
    "##### Selecting Specific Columns for Display"
   ]
  },
  {
   "cell_type": "code",
   "execution_count": 15,
   "id": "3fd75f25-c6fc-4336-b34c-2240fe76a46d",
   "metadata": {},
   "outputs": [],
   "source": [
    "network_summary = df[[\"Timestamp\", \"Source_IP\", \"Destination_IP\", \"Status\"]]"
   ]
  },
  {
   "cell_type": "code",
   "execution_count": 16,
   "id": "e0fb4ede-be77-4dce-8da5-8fdf48477436",
   "metadata": {},
   "outputs": [
    {
     "data": {
      "text/html": [
       "<div>\n",
       "<style scoped>\n",
       "    .dataframe tbody tr th:only-of-type {\n",
       "        vertical-align: middle;\n",
       "    }\n",
       "\n",
       "    .dataframe tbody tr th {\n",
       "        vertical-align: top;\n",
       "    }\n",
       "\n",
       "    .dataframe thead th {\n",
       "        text-align: right;\n",
       "    }\n",
       "</style>\n",
       "<table border=\"1\" class=\"dataframe\">\n",
       "  <thead>\n",
       "    <tr style=\"text-align: right;\">\n",
       "      <th></th>\n",
       "      <th>Timestamp</th>\n",
       "      <th>Source_IP</th>\n",
       "      <th>Destination_IP</th>\n",
       "      <th>Status</th>\n",
       "    </tr>\n",
       "  </thead>\n",
       "  <tbody>\n",
       "    <tr>\n",
       "      <th>0</th>\n",
       "      <td>2025-03-19 13:04:10</td>\n",
       "      <td>10.0.0.15</td>\n",
       "      <td>192.168.1.20</td>\n",
       "      <td>Blocked</td>\n",
       "    </tr>\n",
       "    <tr>\n",
       "      <th>1</th>\n",
       "      <td>2025-03-19 13:03:40</td>\n",
       "      <td>192.168.1.13</td>\n",
       "      <td>172.217.169.46</td>\n",
       "      <td>Allowed</td>\n",
       "    </tr>\n",
       "    <tr>\n",
       "      <th>2</th>\n",
       "      <td>2025-03-19 13:03:10</td>\n",
       "      <td>10.0.0.5</td>\n",
       "      <td>203.0.113.99</td>\n",
       "      <td>Allowed</td>\n",
       "    </tr>\n",
       "    <tr>\n",
       "      <th>3</th>\n",
       "      <td>2025-03-19 13:02:40</td>\n",
       "      <td>10.0.0.9</td>\n",
       "      <td>192.168.1.20</td>\n",
       "      <td>Blocked</td>\n",
       "    </tr>\n",
       "    <tr>\n",
       "      <th>4</th>\n",
       "      <td>2025-03-19 13:02:10</td>\n",
       "      <td>192.168.1.4</td>\n",
       "      <td>172.217.169.46</td>\n",
       "      <td>Blocked</td>\n",
       "    </tr>\n",
       "  </tbody>\n",
       "</table>\n",
       "</div>"
      ],
      "text/plain": [
       "             Timestamp     Source_IP  Destination_IP   Status\n",
       "0  2025-03-19 13:04:10     10.0.0.15    192.168.1.20  Blocked\n",
       "1  2025-03-19 13:03:40  192.168.1.13  172.217.169.46  Allowed\n",
       "2  2025-03-19 13:03:10      10.0.0.5    203.0.113.99  Allowed\n",
       "3  2025-03-19 13:02:40      10.0.0.9    192.168.1.20  Blocked\n",
       "4  2025-03-19 13:02:10   192.168.1.4  172.217.169.46  Blocked"
      ]
     },
     "execution_count": 16,
     "metadata": {},
     "output_type": "execute_result"
    }
   ],
   "source": [
    "# displaying the first five rows\n",
    "network_summary.head()"
   ]
  },
  {
   "cell_type": "markdown",
   "id": "037035e6-1a76-4880-a51b-b58c5439b4a3",
   "metadata": {},
   "source": [
    "##### Filtering Specific Datas"
   ]
  },
  {
   "cell_type": "code",
   "execution_count": 7,
   "id": "e5396d60-b8e6-494b-8b85-bf825ec69a4e",
   "metadata": {},
   "outputs": [],
   "source": [
    "# filter only blocked traffic\n",
    "blocked_traffic = df[df[\"Status\"] == \"Blocked\"]"
   ]
  },
  {
   "cell_type": "code",
   "execution_count": 8,
   "id": "b558175d-d65f-44ce-8e8b-684e676fe842",
   "metadata": {
    "scrolled": true
   },
   "outputs": [
    {
     "data": {
      "text/html": [
       "<div>\n",
       "<style scoped>\n",
       "    .dataframe tbody tr th:only-of-type {\n",
       "        vertical-align: middle;\n",
       "    }\n",
       "\n",
       "    .dataframe tbody tr th {\n",
       "        vertical-align: top;\n",
       "    }\n",
       "\n",
       "    .dataframe thead th {\n",
       "        text-align: right;\n",
       "    }\n",
       "</style>\n",
       "<table border=\"1\" class=\"dataframe\">\n",
       "  <thead>\n",
       "    <tr style=\"text-align: right;\">\n",
       "      <th></th>\n",
       "      <th>Timestamp</th>\n",
       "      <th>Source_IP</th>\n",
       "      <th>Destination_IP</th>\n",
       "      <th>Protocol</th>\n",
       "      <th>Port</th>\n",
       "      <th>Bytes_Sent</th>\n",
       "      <th>Bytes_Received</th>\n",
       "      <th>Status</th>\n",
       "      <th>Threat_Level</th>\n",
       "    </tr>\n",
       "  </thead>\n",
       "  <tbody>\n",
       "    <tr>\n",
       "      <th>0</th>\n",
       "      <td>2025-03-19 13:04:10</td>\n",
       "      <td>10.0.0.15</td>\n",
       "      <td>192.168.1.20</td>\n",
       "      <td>TCP</td>\n",
       "      <td>NaN</td>\n",
       "      <td>5411</td>\n",
       "      <td>8989</td>\n",
       "      <td>Blocked</td>\n",
       "      <td>Low</td>\n",
       "    </tr>\n",
       "    <tr>\n",
       "      <th>3</th>\n",
       "      <td>2025-03-19 13:02:40</td>\n",
       "      <td>10.0.0.9</td>\n",
       "      <td>192.168.1.20</td>\n",
       "      <td>TCP</td>\n",
       "      <td>NaN</td>\n",
       "      <td>4011</td>\n",
       "      <td>14314</td>\n",
       "      <td>Blocked</td>\n",
       "      <td>Low</td>\n",
       "    </tr>\n",
       "    <tr>\n",
       "      <th>4</th>\n",
       "      <td>2025-03-19 13:02:10</td>\n",
       "      <td>192.168.1.4</td>\n",
       "      <td>172.217.169.46</td>\n",
       "      <td>FTP</td>\n",
       "      <td>NaN</td>\n",
       "      <td>5254</td>\n",
       "      <td>8718</td>\n",
       "      <td>Blocked</td>\n",
       "      <td>Medium</td>\n",
       "    </tr>\n",
       "    <tr>\n",
       "      <th>9</th>\n",
       "      <td>2025-03-19 12:59:40</td>\n",
       "      <td>10.0.0.43</td>\n",
       "      <td>10.0.0.5</td>\n",
       "      <td>ICMP</td>\n",
       "      <td>3389.0</td>\n",
       "      <td>3305</td>\n",
       "      <td>6621</td>\n",
       "      <td>Blocked</td>\n",
       "      <td>Low</td>\n",
       "    </tr>\n",
       "    <tr>\n",
       "      <th>10</th>\n",
       "      <td>2025-03-19 12:59:10</td>\n",
       "      <td>10.0.0.33</td>\n",
       "      <td>203.0.113.99</td>\n",
       "      <td>UDP</td>\n",
       "      <td>3389.0</td>\n",
       "      <td>3700</td>\n",
       "      <td>11297</td>\n",
       "      <td>Blocked</td>\n",
       "      <td>Medium</td>\n",
       "    </tr>\n",
       "    <tr>\n",
       "      <th>...</th>\n",
       "      <td>...</td>\n",
       "      <td>...</td>\n",
       "      <td>...</td>\n",
       "      <td>...</td>\n",
       "      <td>...</td>\n",
       "      <td>...</td>\n",
       "      <td>...</td>\n",
       "      <td>...</td>\n",
       "      <td>...</td>\n",
       "    </tr>\n",
       "    <tr>\n",
       "      <th>992</th>\n",
       "      <td>2025-03-19 04:48:10</td>\n",
       "      <td>10.0.0.11</td>\n",
       "      <td>203.0.113.99</td>\n",
       "      <td>HTTP</td>\n",
       "      <td>NaN</td>\n",
       "      <td>2839</td>\n",
       "      <td>2939</td>\n",
       "      <td>Blocked</td>\n",
       "      <td>Medium</td>\n",
       "    </tr>\n",
       "    <tr>\n",
       "      <th>993</th>\n",
       "      <td>2025-03-19 04:47:40</td>\n",
       "      <td>192.168.1.39</td>\n",
       "      <td>192.168.1.20</td>\n",
       "      <td>ICMP</td>\n",
       "      <td>22.0</td>\n",
       "      <td>4178</td>\n",
       "      <td>8307</td>\n",
       "      <td>Blocked</td>\n",
       "      <td>Low</td>\n",
       "    </tr>\n",
       "    <tr>\n",
       "      <th>995</th>\n",
       "      <td>2025-03-19 04:46:40</td>\n",
       "      <td>10.0.0.46</td>\n",
       "      <td>172.217.169.46</td>\n",
       "      <td>DNS</td>\n",
       "      <td>53.0</td>\n",
       "      <td>2290</td>\n",
       "      <td>6246</td>\n",
       "      <td>Blocked</td>\n",
       "      <td>Low</td>\n",
       "    </tr>\n",
       "    <tr>\n",
       "      <th>997</th>\n",
       "      <td>2025-03-19 04:45:40</td>\n",
       "      <td>10.0.0.3</td>\n",
       "      <td>192.168.1.20</td>\n",
       "      <td>UDP</td>\n",
       "      <td>21.0</td>\n",
       "      <td>6655</td>\n",
       "      <td>13170</td>\n",
       "      <td>Blocked</td>\n",
       "      <td>Low</td>\n",
       "    </tr>\n",
       "    <tr>\n",
       "      <th>998</th>\n",
       "      <td>2025-03-19 04:45:10</td>\n",
       "      <td>192.168.1.30</td>\n",
       "      <td>172.217.169.46</td>\n",
       "      <td>DNS</td>\n",
       "      <td>NaN</td>\n",
       "      <td>7308</td>\n",
       "      <td>13117</td>\n",
       "      <td>Blocked</td>\n",
       "      <td>Low</td>\n",
       "    </tr>\n",
       "  </tbody>\n",
       "</table>\n",
       "<p>532 rows × 9 columns</p>\n",
       "</div>"
      ],
      "text/plain": [
       "               Timestamp     Source_IP  Destination_IP Protocol    Port  \\\n",
       "0    2025-03-19 13:04:10     10.0.0.15    192.168.1.20      TCP     NaN   \n",
       "3    2025-03-19 13:02:40      10.0.0.9    192.168.1.20      TCP     NaN   \n",
       "4    2025-03-19 13:02:10   192.168.1.4  172.217.169.46      FTP     NaN   \n",
       "9    2025-03-19 12:59:40     10.0.0.43        10.0.0.5     ICMP  3389.0   \n",
       "10   2025-03-19 12:59:10     10.0.0.33    203.0.113.99      UDP  3389.0   \n",
       "..                   ...           ...             ...      ...     ...   \n",
       "992  2025-03-19 04:48:10     10.0.0.11    203.0.113.99     HTTP     NaN   \n",
       "993  2025-03-19 04:47:40  192.168.1.39    192.168.1.20     ICMP    22.0   \n",
       "995  2025-03-19 04:46:40     10.0.0.46  172.217.169.46      DNS    53.0   \n",
       "997  2025-03-19 04:45:40      10.0.0.3    192.168.1.20      UDP    21.0   \n",
       "998  2025-03-19 04:45:10  192.168.1.30  172.217.169.46      DNS     NaN   \n",
       "\n",
       "     Bytes_Sent  Bytes_Received   Status Threat_Level  \n",
       "0          5411            8989  Blocked          Low  \n",
       "3          4011           14314  Blocked          Low  \n",
       "4          5254            8718  Blocked       Medium  \n",
       "9          3305            6621  Blocked          Low  \n",
       "10         3700           11297  Blocked       Medium  \n",
       "..          ...             ...      ...          ...  \n",
       "992        2839            2939  Blocked       Medium  \n",
       "993        4178            8307  Blocked          Low  \n",
       "995        2290            6246  Blocked          Low  \n",
       "997        6655           13170  Blocked          Low  \n",
       "998        7308           13117  Blocked          Low  \n",
       "\n",
       "[532 rows x 9 columns]"
      ]
     },
     "execution_count": 8,
     "metadata": {},
     "output_type": "execute_result"
    }
   ],
   "source": [
    "# Displaying the blocked_traffic\n",
    "blocked_traffic"
   ]
  },
  {
   "cell_type": "code",
   "execution_count": 9,
   "id": "e82d1abb-4e74-4eff-9d88-35a1a8d56a9e",
   "metadata": {},
   "outputs": [],
   "source": [
    "# Selecting key details for analysis\n",
    "blocked_summary = blocked_traffic[[\"Timestamp\", \"Source_IP\", \"Destination_IP\", \"Threat_Level\"]]"
   ]
  },
  {
   "cell_type": "code",
   "execution_count": 10,
   "id": "27093194-ace2-412a-ad2c-128656bab39d",
   "metadata": {},
   "outputs": [
    {
     "data": {
      "text/html": [
       "<div>\n",
       "<style scoped>\n",
       "    .dataframe tbody tr th:only-of-type {\n",
       "        vertical-align: middle;\n",
       "    }\n",
       "\n",
       "    .dataframe tbody tr th {\n",
       "        vertical-align: top;\n",
       "    }\n",
       "\n",
       "    .dataframe thead th {\n",
       "        text-align: right;\n",
       "    }\n",
       "</style>\n",
       "<table border=\"1\" class=\"dataframe\">\n",
       "  <thead>\n",
       "    <tr style=\"text-align: right;\">\n",
       "      <th></th>\n",
       "      <th>Timestamp</th>\n",
       "      <th>Source_IP</th>\n",
       "      <th>Destination_IP</th>\n",
       "      <th>Threat_Level</th>\n",
       "    </tr>\n",
       "  </thead>\n",
       "  <tbody>\n",
       "    <tr>\n",
       "      <th>0</th>\n",
       "      <td>2025-03-19 13:04:10</td>\n",
       "      <td>10.0.0.15</td>\n",
       "      <td>192.168.1.20</td>\n",
       "      <td>Low</td>\n",
       "    </tr>\n",
       "    <tr>\n",
       "      <th>3</th>\n",
       "      <td>2025-03-19 13:02:40</td>\n",
       "      <td>10.0.0.9</td>\n",
       "      <td>192.168.1.20</td>\n",
       "      <td>Low</td>\n",
       "    </tr>\n",
       "    <tr>\n",
       "      <th>4</th>\n",
       "      <td>2025-03-19 13:02:10</td>\n",
       "      <td>192.168.1.4</td>\n",
       "      <td>172.217.169.46</td>\n",
       "      <td>Medium</td>\n",
       "    </tr>\n",
       "    <tr>\n",
       "      <th>9</th>\n",
       "      <td>2025-03-19 12:59:40</td>\n",
       "      <td>10.0.0.43</td>\n",
       "      <td>10.0.0.5</td>\n",
       "      <td>Low</td>\n",
       "    </tr>\n",
       "    <tr>\n",
       "      <th>10</th>\n",
       "      <td>2025-03-19 12:59:10</td>\n",
       "      <td>10.0.0.33</td>\n",
       "      <td>203.0.113.99</td>\n",
       "      <td>Medium</td>\n",
       "    </tr>\n",
       "  </tbody>\n",
       "</table>\n",
       "</div>"
      ],
      "text/plain": [
       "              Timestamp    Source_IP  Destination_IP Threat_Level\n",
       "0   2025-03-19 13:04:10    10.0.0.15    192.168.1.20          Low\n",
       "3   2025-03-19 13:02:40     10.0.0.9    192.168.1.20          Low\n",
       "4   2025-03-19 13:02:10  192.168.1.4  172.217.169.46       Medium\n",
       "9   2025-03-19 12:59:40    10.0.0.43        10.0.0.5          Low\n",
       "10  2025-03-19 12:59:10    10.0.0.33    203.0.113.99       Medium"
      ]
     },
     "execution_count": 10,
     "metadata": {},
     "output_type": "execute_result"
    }
   ],
   "source": [
    "# Displaying first few rows\n",
    "blocked_summary.head()"
   ]
  },
  {
   "cell_type": "code",
   "execution_count": 12,
   "id": "551e6d24-a1e0-43ef-97fd-c25a936d83b3",
   "metadata": {},
   "outputs": [],
   "source": [
    "# checking for the blocked traffic with threat levels that are high\n",
    "blocked_threat_summary = blocked_summary[blocked_summary[\"Threat_Level\"] == \"High\"]"
   ]
  },
  {
   "cell_type": "code",
   "execution_count": 14,
   "id": "07aef1f3-7c70-4352-8962-9007d0e496de",
   "metadata": {},
   "outputs": [
    {
     "data": {
      "text/plain": [
       "(60, 4)"
      ]
     },
     "execution_count": 14,
     "metadata": {},
     "output_type": "execute_result"
    }
   ],
   "source": [
    "blocked_threat_summary.shape"
   ]
  },
  {
   "attachments": {},
   "cell_type": "markdown",
   "id": "2fdc4069-4d97-47af-a94a-4c9251caa410",
   "metadata": {},
   "source": [
    "##### Filtering Suspicious Traffic"
   ]
  },
  {
   "cell_type": "code",
   "execution_count": 18,
   "id": "07a15878-3b72-4441-bb80-4269fd1bac1f",
   "metadata": {},
   "outputs": [],
   "source": [
    "# Checking for critical level threats\n",
    "High_risk_traffic = df[df[\"Threat_Level\"] == \"Critical\"]"
   ]
  },
  {
   "cell_type": "code",
   "execution_count": 20,
   "id": "2881914d-9125-4b5a-a5c5-839548a0efe8",
   "metadata": {},
   "outputs": [
    {
     "data": {
      "text/html": [
       "<div>\n",
       "<style scoped>\n",
       "    .dataframe tbody tr th:only-of-type {\n",
       "        vertical-align: middle;\n",
       "    }\n",
       "\n",
       "    .dataframe tbody tr th {\n",
       "        vertical-align: top;\n",
       "    }\n",
       "\n",
       "    .dataframe thead th {\n",
       "        text-align: right;\n",
       "    }\n",
       "</style>\n",
       "<table border=\"1\" class=\"dataframe\">\n",
       "  <thead>\n",
       "    <tr style=\"text-align: right;\">\n",
       "      <th></th>\n",
       "      <th>Timestamp</th>\n",
       "      <th>Source_IP</th>\n",
       "      <th>Destination_IP</th>\n",
       "      <th>Protocol</th>\n",
       "      <th>Port</th>\n",
       "      <th>Bytes_Sent</th>\n",
       "      <th>Bytes_Received</th>\n",
       "      <th>Status</th>\n",
       "      <th>Threat_Level</th>\n",
       "    </tr>\n",
       "  </thead>\n",
       "  <tbody>\n",
       "    <tr>\n",
       "      <th>59</th>\n",
       "      <td>2025-03-19 12:34:40</td>\n",
       "      <td>10.0.0.47</td>\n",
       "      <td>192.168.1.20</td>\n",
       "      <td>ICMP</td>\n",
       "      <td>NaN</td>\n",
       "      <td>5885</td>\n",
       "      <td>463</td>\n",
       "      <td>Allowed</td>\n",
       "      <td>Critical</td>\n",
       "    </tr>\n",
       "    <tr>\n",
       "      <th>96</th>\n",
       "      <td>2025-03-19 12:16:10</td>\n",
       "      <td>192.168.1.35</td>\n",
       "      <td>203.0.113.99</td>\n",
       "      <td>FTP</td>\n",
       "      <td>8080.0</td>\n",
       "      <td>9371</td>\n",
       "      <td>7189</td>\n",
       "      <td>Allowed</td>\n",
       "      <td>Critical</td>\n",
       "    </tr>\n",
       "    <tr>\n",
       "      <th>134</th>\n",
       "      <td>2025-03-19 11:57:10</td>\n",
       "      <td>192.168.1.17</td>\n",
       "      <td>172.217.169.46</td>\n",
       "      <td>DNS</td>\n",
       "      <td>22.0</td>\n",
       "      <td>6714</td>\n",
       "      <td>13124</td>\n",
       "      <td>Blocked</td>\n",
       "      <td>Critical</td>\n",
       "    </tr>\n",
       "    <tr>\n",
       "      <th>150</th>\n",
       "      <td>2025-03-19 11:49:10</td>\n",
       "      <td>192.168.1.42</td>\n",
       "      <td>10.0.0.5</td>\n",
       "      <td>HTTP</td>\n",
       "      <td>53.0</td>\n",
       "      <td>2702</td>\n",
       "      <td>634</td>\n",
       "      <td>Allowed</td>\n",
       "      <td>Critical</td>\n",
       "    </tr>\n",
       "    <tr>\n",
       "      <th>209</th>\n",
       "      <td>2025-03-19 11:19:40</td>\n",
       "      <td>10.0.0.17</td>\n",
       "      <td>203.0.113.99</td>\n",
       "      <td>TCP</td>\n",
       "      <td>3389.0</td>\n",
       "      <td>5085</td>\n",
       "      <td>10014</td>\n",
       "      <td>Blocked</td>\n",
       "      <td>Critical</td>\n",
       "    </tr>\n",
       "  </tbody>\n",
       "</table>\n",
       "</div>"
      ],
      "text/plain": [
       "               Timestamp     Source_IP  Destination_IP Protocol    Port  \\\n",
       "59   2025-03-19 12:34:40     10.0.0.47    192.168.1.20     ICMP     NaN   \n",
       "96   2025-03-19 12:16:10  192.168.1.35    203.0.113.99      FTP  8080.0   \n",
       "134  2025-03-19 11:57:10  192.168.1.17  172.217.169.46      DNS    22.0   \n",
       "150  2025-03-19 11:49:10  192.168.1.42        10.0.0.5     HTTP    53.0   \n",
       "209  2025-03-19 11:19:40     10.0.0.17    203.0.113.99      TCP  3389.0   \n",
       "\n",
       "     Bytes_Sent  Bytes_Received   Status Threat_Level  \n",
       "59         5885             463  Allowed     Critical  \n",
       "96         9371            7189  Allowed     Critical  \n",
       "134        6714           13124  Blocked     Critical  \n",
       "150        2702             634  Allowed     Critical  \n",
       "209        5085           10014  Blocked     Critical  "
      ]
     },
     "execution_count": 20,
     "metadata": {},
     "output_type": "execute_result"
    }
   ],
   "source": [
    "#Displaying few rows\n",
    "High_risk_traffic.head()"
   ]
  },
  {
   "attachments": {},
   "cell_type": "markdown",
   "id": "8dc81143-57bc-40db-b5e6-38463f5234a3",
   "metadata": {},
   "source": [
    "##### Filtering Traffic with High Data Transfer (where Bytes Sent is greater than 5000)"
   ]
  },
  {
   "cell_type": "code",
   "execution_count": 22,
   "id": "4644a794-8a1f-4ea4-b2cb-88c2172d890f",
   "metadata": {},
   "outputs": [],
   "source": [
    "High_data_transfer = df[df[\"Bytes_Sent\"] > 5000]"
   ]
  },
  {
   "cell_type": "code",
   "execution_count": 23,
   "id": "5c8a26cd-fcf6-4bfd-9840-d93838bb68b7",
   "metadata": {},
   "outputs": [
    {
     "data": {
      "text/html": [
       "<div>\n",
       "<style scoped>\n",
       "    .dataframe tbody tr th:only-of-type {\n",
       "        vertical-align: middle;\n",
       "    }\n",
       "\n",
       "    .dataframe tbody tr th {\n",
       "        vertical-align: top;\n",
       "    }\n",
       "\n",
       "    .dataframe thead th {\n",
       "        text-align: right;\n",
       "    }\n",
       "</style>\n",
       "<table border=\"1\" class=\"dataframe\">\n",
       "  <thead>\n",
       "    <tr style=\"text-align: right;\">\n",
       "      <th></th>\n",
       "      <th>Timestamp</th>\n",
       "      <th>Source_IP</th>\n",
       "      <th>Destination_IP</th>\n",
       "      <th>Protocol</th>\n",
       "      <th>Port</th>\n",
       "      <th>Bytes_Sent</th>\n",
       "      <th>Bytes_Received</th>\n",
       "      <th>Status</th>\n",
       "      <th>Threat_Level</th>\n",
       "    </tr>\n",
       "  </thead>\n",
       "  <tbody>\n",
       "    <tr>\n",
       "      <th>0</th>\n",
       "      <td>2025-03-19 13:04:10</td>\n",
       "      <td>10.0.0.15</td>\n",
       "      <td>192.168.1.20</td>\n",
       "      <td>TCP</td>\n",
       "      <td>NaN</td>\n",
       "      <td>5411</td>\n",
       "      <td>8989</td>\n",
       "      <td>Blocked</td>\n",
       "      <td>Low</td>\n",
       "    </tr>\n",
       "    <tr>\n",
       "      <th>2</th>\n",
       "      <td>2025-03-19 13:03:10</td>\n",
       "      <td>10.0.0.5</td>\n",
       "      <td>203.0.113.99</td>\n",
       "      <td>HTTP</td>\n",
       "      <td>443.0</td>\n",
       "      <td>6360</td>\n",
       "      <td>10852</td>\n",
       "      <td>Allowed</td>\n",
       "      <td>Medium</td>\n",
       "    </tr>\n",
       "    <tr>\n",
       "      <th>4</th>\n",
       "      <td>2025-03-19 13:02:10</td>\n",
       "      <td>192.168.1.4</td>\n",
       "      <td>172.217.169.46</td>\n",
       "      <td>FTP</td>\n",
       "      <td>NaN</td>\n",
       "      <td>5254</td>\n",
       "      <td>8718</td>\n",
       "      <td>Blocked</td>\n",
       "      <td>Medium</td>\n",
       "    </tr>\n",
       "    <tr>\n",
       "      <th>5</th>\n",
       "      <td>2025-03-19 13:01:40</td>\n",
       "      <td>10.0.0.43</td>\n",
       "      <td>172.217.169.46</td>\n",
       "      <td>DNS</td>\n",
       "      <td>53.0</td>\n",
       "      <td>6915</td>\n",
       "      <td>12981</td>\n",
       "      <td>Allowed</td>\n",
       "      <td>Low</td>\n",
       "    </tr>\n",
       "    <tr>\n",
       "      <th>7</th>\n",
       "      <td>2025-03-19 13:00:40</td>\n",
       "      <td>192.168.1.36</td>\n",
       "      <td>192.168.1.20</td>\n",
       "      <td>TCP</td>\n",
       "      <td>21.0</td>\n",
       "      <td>5655</td>\n",
       "      <td>119</td>\n",
       "      <td>Allowed</td>\n",
       "      <td>Medium</td>\n",
       "    </tr>\n",
       "  </tbody>\n",
       "</table>\n",
       "</div>"
      ],
      "text/plain": [
       "             Timestamp     Source_IP  Destination_IP Protocol   Port  \\\n",
       "0  2025-03-19 13:04:10     10.0.0.15    192.168.1.20      TCP    NaN   \n",
       "2  2025-03-19 13:03:10      10.0.0.5    203.0.113.99     HTTP  443.0   \n",
       "4  2025-03-19 13:02:10   192.168.1.4  172.217.169.46      FTP    NaN   \n",
       "5  2025-03-19 13:01:40     10.0.0.43  172.217.169.46      DNS   53.0   \n",
       "7  2025-03-19 13:00:40  192.168.1.36    192.168.1.20      TCP   21.0   \n",
       "\n",
       "   Bytes_Sent  Bytes_Received   Status Threat_Level  \n",
       "0        5411            8989  Blocked          Low  \n",
       "2        6360           10852  Allowed       Medium  \n",
       "4        5254            8718  Blocked       Medium  \n",
       "5        6915           12981  Allowed          Low  \n",
       "7        5655             119  Allowed       Medium  "
      ]
     },
     "execution_count": 23,
     "metadata": {},
     "output_type": "execute_result"
    }
   ],
   "source": [
    "# Displaying few\n",
    "High_data_transfer.head()"
   ]
  },
  {
   "cell_type": "code",
   "execution_count": 26,
   "id": "05f33ac3-e7d6-431a-bd5f-25115b94bc2b",
   "metadata": {},
   "outputs": [
    {
     "name": "stdout",
     "output_type": "stream",
     "text": [
      "Number of high data transfers: 518\n"
     ]
    }
   ],
   "source": [
    "# Show the number of such events\n",
    "print(f\"Number of high data transfers: {len(High_data_transfer)}\")"
   ]
  },
  {
   "cell_type": "markdown",
   "id": "74845fb1-32ac-4232-98af-bad2a28c7da4",
   "metadata": {},
   "source": [
    "##### Splitting the Dataset into X (Features) and y (Target Variable)"
   ]
  },
  {
   "cell_type": "code",
   "execution_count": 27,
   "id": "b9834f35-bc54-4562-9f68-ab89e55ab5cc",
   "metadata": {},
   "outputs": [],
   "source": [
    "# Selecting features X- Excluding the target variable\n",
    "X = df.drop(columns = [\"Threat_Level\"])\n",
    "\n",
    "# Selecting the target variable (Y)\n",
    "Y = df[\"Threat_Level\"]"
   ]
  },
  {
   "cell_type": "code",
   "execution_count": 29,
   "id": "37d4126f-a421-4bcb-a095-663c0d05daaf",
   "metadata": {},
   "outputs": [
    {
     "name": "stdout",
     "output_type": "stream",
     "text": [
      "Features (X):\n",
      "             Timestamp     Source_IP  Destination_IP Protocol   Port  \\\n",
      "0  2025-03-19 13:04:10     10.0.0.15    192.168.1.20      TCP    NaN   \n",
      "1  2025-03-19 13:03:40  192.168.1.13  172.217.169.46     ICMP  443.0   \n",
      "2  2025-03-19 13:03:10      10.0.0.5    203.0.113.99     HTTP  443.0   \n",
      "3  2025-03-19 13:02:40      10.0.0.9    192.168.1.20      TCP    NaN   \n",
      "4  2025-03-19 13:02:10   192.168.1.4  172.217.169.46      FTP    NaN   \n",
      "\n",
      "   Bytes_Sent  Bytes_Received   Status  \n",
      "0        5411            8989  Blocked  \n",
      "1        4999           11808  Allowed  \n",
      "2        6360           10852  Allowed  \n",
      "3        4011           14314  Blocked  \n",
      "4        5254            8718  Blocked  \n",
      "\n",
      "Target variable (Y):\n",
      "0       Low\n",
      "1    Medium\n",
      "2    Medium\n",
      "3       Low\n",
      "4    Medium\n",
      "Name: Threat_Level, dtype: object\n"
     ]
    }
   ],
   "source": [
    "# Display the first few rows of X and Y\n",
    "print(\"Features (X):\")\n",
    "print(X.head())\n",
    "print(\"\\nTarget variable (Y):\")\n",
    "print(Y.head())\n"
   ]
  },
  {
   "cell_type": "markdown",
   "id": "f170a8c0-eecb-414d-ba2b-fa1c821ba477",
   "metadata": {},
   "source": [
    "##### Removing a Column\n"
   ]
  },
  {
   "cell_type": "code",
   "execution_count": 30,
   "id": "2734f010-bd84-4324-a3cb-b5c278665fa9",
   "metadata": {},
   "outputs": [],
   "source": [
    "df = df.drop(columns =[\"Timestamp\"])"
   ]
  },
  {
   "cell_type": "code",
   "execution_count": 31,
   "id": "ec40b8c0-76f6-4d94-90f6-4d7c38c429bb",
   "metadata": {},
   "outputs": [
    {
     "data": {
      "text/html": [
       "<div>\n",
       "<style scoped>\n",
       "    .dataframe tbody tr th:only-of-type {\n",
       "        vertical-align: middle;\n",
       "    }\n",
       "\n",
       "    .dataframe tbody tr th {\n",
       "        vertical-align: top;\n",
       "    }\n",
       "\n",
       "    .dataframe thead th {\n",
       "        text-align: right;\n",
       "    }\n",
       "</style>\n",
       "<table border=\"1\" class=\"dataframe\">\n",
       "  <thead>\n",
       "    <tr style=\"text-align: right;\">\n",
       "      <th></th>\n",
       "      <th>Source_IP</th>\n",
       "      <th>Destination_IP</th>\n",
       "      <th>Protocol</th>\n",
       "      <th>Port</th>\n",
       "      <th>Bytes_Sent</th>\n",
       "      <th>Bytes_Received</th>\n",
       "      <th>Status</th>\n",
       "      <th>Threat_Level</th>\n",
       "    </tr>\n",
       "  </thead>\n",
       "  <tbody>\n",
       "    <tr>\n",
       "      <th>0</th>\n",
       "      <td>10.0.0.15</td>\n",
       "      <td>192.168.1.20</td>\n",
       "      <td>TCP</td>\n",
       "      <td>NaN</td>\n",
       "      <td>5411</td>\n",
       "      <td>8989</td>\n",
       "      <td>Blocked</td>\n",
       "      <td>Low</td>\n",
       "    </tr>\n",
       "    <tr>\n",
       "      <th>1</th>\n",
       "      <td>192.168.1.13</td>\n",
       "      <td>172.217.169.46</td>\n",
       "      <td>ICMP</td>\n",
       "      <td>443.0</td>\n",
       "      <td>4999</td>\n",
       "      <td>11808</td>\n",
       "      <td>Allowed</td>\n",
       "      <td>Medium</td>\n",
       "    </tr>\n",
       "    <tr>\n",
       "      <th>2</th>\n",
       "      <td>10.0.0.5</td>\n",
       "      <td>203.0.113.99</td>\n",
       "      <td>HTTP</td>\n",
       "      <td>443.0</td>\n",
       "      <td>6360</td>\n",
       "      <td>10852</td>\n",
       "      <td>Allowed</td>\n",
       "      <td>Medium</td>\n",
       "    </tr>\n",
       "    <tr>\n",
       "      <th>3</th>\n",
       "      <td>10.0.0.9</td>\n",
       "      <td>192.168.1.20</td>\n",
       "      <td>TCP</td>\n",
       "      <td>NaN</td>\n",
       "      <td>4011</td>\n",
       "      <td>14314</td>\n",
       "      <td>Blocked</td>\n",
       "      <td>Low</td>\n",
       "    </tr>\n",
       "    <tr>\n",
       "      <th>4</th>\n",
       "      <td>192.168.1.4</td>\n",
       "      <td>172.217.169.46</td>\n",
       "      <td>FTP</td>\n",
       "      <td>NaN</td>\n",
       "      <td>5254</td>\n",
       "      <td>8718</td>\n",
       "      <td>Blocked</td>\n",
       "      <td>Medium</td>\n",
       "    </tr>\n",
       "  </tbody>\n",
       "</table>\n",
       "</div>"
      ],
      "text/plain": [
       "      Source_IP  Destination_IP Protocol   Port  Bytes_Sent  Bytes_Received  \\\n",
       "0     10.0.0.15    192.168.1.20      TCP    NaN        5411            8989   \n",
       "1  192.168.1.13  172.217.169.46     ICMP  443.0        4999           11808   \n",
       "2      10.0.0.5    203.0.113.99     HTTP  443.0        6360           10852   \n",
       "3      10.0.0.9    192.168.1.20      TCP    NaN        4011           14314   \n",
       "4   192.168.1.4  172.217.169.46      FTP    NaN        5254            8718   \n",
       "\n",
       "    Status Threat_Level  \n",
       "0  Blocked          Low  \n",
       "1  Allowed       Medium  \n",
       "2  Allowed       Medium  \n",
       "3  Blocked          Low  \n",
       "4  Blocked       Medium  "
      ]
     },
     "execution_count": 31,
     "metadata": {},
     "output_type": "execute_result"
    }
   ],
   "source": [
    "# Display first few to confirm\n",
    "df.head()"
   ]
  },
  {
   "cell_type": "code",
   "execution_count": null,
   "id": "e1d7126d-c656-4ca8-bbe4-bedb79a94381",
   "metadata": {},
   "outputs": [],
   "source": []
  }
 ],
 "metadata": {
  "kernelspec": {
   "display_name": "Python 3 (ipykernel)",
   "language": "python",
   "name": "python3"
  },
  "language_info": {
   "codemirror_mode": {
    "name": "ipython",
    "version": 3
   },
   "file_extension": ".py",
   "mimetype": "text/x-python",
   "name": "python",
   "nbconvert_exporter": "python",
   "pygments_lexer": "ipython3",
   "version": "3.13.2"
  }
 },
 "nbformat": 4,
 "nbformat_minor": 5
}
