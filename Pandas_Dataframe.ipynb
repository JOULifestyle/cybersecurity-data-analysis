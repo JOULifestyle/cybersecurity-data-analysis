{
 "cells": [
  {
   "cell_type": "markdown",
   "id": "a92b624f-7bea-41b5-9b22-edbaaeb9ea1a",
   "metadata": {},
   "source": [
    "# Creating a Pandas Dataframe from Scratch"
   ]
  },
  {
   "cell_type": "code",
   "execution_count": 1,
   "id": "7be2aa06-5bf0-487a-b43c-1ec4d1fc949c",
   "metadata": {},
   "outputs": [],
   "source": [
    "# Importing pandas\n",
    "import pandas as pd"
   ]
  },
  {
   "cell_type": "code",
   "execution_count": 3,
   "id": "cc4e90ad-1289-48f9-b82b-dd34b803d6ef",
   "metadata": {},
   "outputs": [],
   "source": [
    "# Creating a DataFrame from scratch\n",
    "data = {\n",
    "    'Name': [\"Israel\", \"Chris\", \"Philip\"],\n",
    "    'Age': [30,28,45],\n",
    "    'City': [\"Lagos\", \"Enugu\", \"Anambra\"]\n",
    "}\n",
    "    "
   ]
  },
  {
   "cell_type": "code",
   "execution_count": 5,
   "id": "0fa416c8-129f-41c0-99bb-5eea27f94e4a",
   "metadata": {},
   "outputs": [],
   "source": [
    "User = pd.DataFrame(data)"
   ]
  },
  {
   "cell_type": "code",
   "execution_count": 6,
   "id": "7b1c957d-2723-4e73-a9b7-a7c4ec7e218e",
   "metadata": {},
   "outputs": [
    {
     "data": {
      "text/html": [
       "<div>\n",
       "<style scoped>\n",
       "    .dataframe tbody tr th:only-of-type {\n",
       "        vertical-align: middle;\n",
       "    }\n",
       "\n",
       "    .dataframe tbody tr th {\n",
       "        vertical-align: top;\n",
       "    }\n",
       "\n",
       "    .dataframe thead th {\n",
       "        text-align: right;\n",
       "    }\n",
       "</style>\n",
       "<table border=\"1\" class=\"dataframe\">\n",
       "  <thead>\n",
       "    <tr style=\"text-align: right;\">\n",
       "      <th></th>\n",
       "      <th>Name</th>\n",
       "      <th>Age</th>\n",
       "      <th>City</th>\n",
       "    </tr>\n",
       "  </thead>\n",
       "  <tbody>\n",
       "    <tr>\n",
       "      <th>0</th>\n",
       "      <td>Israel</td>\n",
       "      <td>30</td>\n",
       "      <td>Lagos</td>\n",
       "    </tr>\n",
       "    <tr>\n",
       "      <th>1</th>\n",
       "      <td>Chris</td>\n",
       "      <td>28</td>\n",
       "      <td>Enugu</td>\n",
       "    </tr>\n",
       "    <tr>\n",
       "      <th>2</th>\n",
       "      <td>Philip</td>\n",
       "      <td>45</td>\n",
       "      <td>Anambra</td>\n",
       "    </tr>\n",
       "  </tbody>\n",
       "</table>\n",
       "</div>"
      ],
      "text/plain": [
       "     Name  Age     City\n",
       "0  Israel   30    Lagos\n",
       "1   Chris   28    Enugu\n",
       "2  Philip   45  Anambra"
      ]
     },
     "execution_count": 6,
     "metadata": {},
     "output_type": "execute_result"
    }
   ],
   "source": [
    "User"
   ]
  },
  {
   "cell_type": "code",
   "execution_count": 7,
   "id": "6aadd802-e0b7-4da4-9f74-9de88a816c83",
   "metadata": {},
   "outputs": [],
   "source": [
    "# Another method: Creating DataFrame from a List of Dictionaries\n",
    "data2 = [\n",
    "    {'Name': 'Gogoate', 'Age': 50, 'City': 'Lagos'},\n",
    "    {'Name': 'Oscar', 'Age': 42, 'City': 'Imo'},\n",
    "    {'Name': 'Victor', 'Age': 36, 'City': 'AkwaIbom'}\n",
    "]\n",
    "    "
   ]
  },
  {
   "cell_type": "code",
   "execution_count": 8,
   "id": "1036b7e5-d81e-4bad-9fea-4b6489f95851",
   "metadata": {},
   "outputs": [],
   "source": [
    "User_Batch2 = pd.DataFrame(data2)"
   ]
  },
  {
   "cell_type": "code",
   "execution_count": 9,
   "id": "4389596b-0059-46e1-9b24-eff8ecbfaf6d",
   "metadata": {},
   "outputs": [
    {
     "data": {
      "text/html": [
       "<div>\n",
       "<style scoped>\n",
       "    .dataframe tbody tr th:only-of-type {\n",
       "        vertical-align: middle;\n",
       "    }\n",
       "\n",
       "    .dataframe tbody tr th {\n",
       "        vertical-align: top;\n",
       "    }\n",
       "\n",
       "    .dataframe thead th {\n",
       "        text-align: right;\n",
       "    }\n",
       "</style>\n",
       "<table border=\"1\" class=\"dataframe\">\n",
       "  <thead>\n",
       "    <tr style=\"text-align: right;\">\n",
       "      <th></th>\n",
       "      <th>Name</th>\n",
       "      <th>Age</th>\n",
       "      <th>City</th>\n",
       "    </tr>\n",
       "  </thead>\n",
       "  <tbody>\n",
       "    <tr>\n",
       "      <th>0</th>\n",
       "      <td>Gogoate</td>\n",
       "      <td>50</td>\n",
       "      <td>Lagos</td>\n",
       "    </tr>\n",
       "    <tr>\n",
       "      <th>1</th>\n",
       "      <td>Oscar</td>\n",
       "      <td>42</td>\n",
       "      <td>Imo</td>\n",
       "    </tr>\n",
       "    <tr>\n",
       "      <th>2</th>\n",
       "      <td>Victor</td>\n",
       "      <td>36</td>\n",
       "      <td>AkwaIbom</td>\n",
       "    </tr>\n",
       "  </tbody>\n",
       "</table>\n",
       "</div>"
      ],
      "text/plain": [
       "      Name  Age      City\n",
       "0  Gogoate   50     Lagos\n",
       "1    Oscar   42       Imo\n",
       "2   Victor   36  AkwaIbom"
      ]
     },
     "execution_count": 9,
     "metadata": {},
     "output_type": "execute_result"
    }
   ],
   "source": [
    "User_Batch2"
   ]
  },
  {
   "cell_type": "code",
   "execution_count": 11,
   "id": "384f85e1-ea58-468e-ab42-20b22470312f",
   "metadata": {},
   "outputs": [],
   "source": [
    "# This can also be created with Custom Index\n",
    "User_Batch2 = pd.DataFrame(data2, index=[1, 2, 3])"
   ]
  },
  {
   "cell_type": "code",
   "execution_count": 12,
   "id": "59990073-159c-4a06-a7b8-121502511cc0",
   "metadata": {},
   "outputs": [
    {
     "data": {
      "text/html": [
       "<div>\n",
       "<style scoped>\n",
       "    .dataframe tbody tr th:only-of-type {\n",
       "        vertical-align: middle;\n",
       "    }\n",
       "\n",
       "    .dataframe tbody tr th {\n",
       "        vertical-align: top;\n",
       "    }\n",
       "\n",
       "    .dataframe thead th {\n",
       "        text-align: right;\n",
       "    }\n",
       "</style>\n",
       "<table border=\"1\" class=\"dataframe\">\n",
       "  <thead>\n",
       "    <tr style=\"text-align: right;\">\n",
       "      <th></th>\n",
       "      <th>Name</th>\n",
       "      <th>Age</th>\n",
       "      <th>City</th>\n",
       "    </tr>\n",
       "  </thead>\n",
       "  <tbody>\n",
       "    <tr>\n",
       "      <th>1</th>\n",
       "      <td>Gogoate</td>\n",
       "      <td>50</td>\n",
       "      <td>Lagos</td>\n",
       "    </tr>\n",
       "    <tr>\n",
       "      <th>2</th>\n",
       "      <td>Oscar</td>\n",
       "      <td>42</td>\n",
       "      <td>Imo</td>\n",
       "    </tr>\n",
       "    <tr>\n",
       "      <th>3</th>\n",
       "      <td>Victor</td>\n",
       "      <td>36</td>\n",
       "      <td>AkwaIbom</td>\n",
       "    </tr>\n",
       "  </tbody>\n",
       "</table>\n",
       "</div>"
      ],
      "text/plain": [
       "      Name  Age      City\n",
       "1  Gogoate   50     Lagos\n",
       "2    Oscar   42       Imo\n",
       "3   Victor   36  AkwaIbom"
      ]
     },
     "execution_count": 12,
     "metadata": {},
     "output_type": "execute_result"
    }
   ],
   "source": [
    "User_Batch2"
   ]
  },
  {
   "cell_type": "code",
   "execution_count": 13,
   "id": "6abfc1fd-db95-46cd-acb9-2f779f28b378",
   "metadata": {},
   "outputs": [],
   "source": [
    "# Creating a DataFrame from a Dictionary of Series\n",
    "data3 = {\n",
    "    'Name':pd.Series([\"Benita\", \"Meenah\", \"Grace\"], index = [1, 2, 3]),\n",
    "    'Age': pd.Series([26,25,32], index = [1, 2, 3]),\n",
    "    'City': pd.Series([\"Imo\", \"Lagos\", \"Delta\"], index = [1, 2, 3])\n",
    "}"
   ]
  },
  {
   "cell_type": "code",
   "execution_count": 14,
   "id": "9227fd97-588e-4a85-a440-462da53d3ab3",
   "metadata": {},
   "outputs": [],
   "source": [
    "User_Batch3 = pd.DataFrame(data3)"
   ]
  },
  {
   "cell_type": "code",
   "execution_count": 15,
   "id": "be4acdcf-4048-4d17-a795-b461c4530697",
   "metadata": {},
   "outputs": [
    {
     "data": {
      "text/html": [
       "<div>\n",
       "<style scoped>\n",
       "    .dataframe tbody tr th:only-of-type {\n",
       "        vertical-align: middle;\n",
       "    }\n",
       "\n",
       "    .dataframe tbody tr th {\n",
       "        vertical-align: top;\n",
       "    }\n",
       "\n",
       "    .dataframe thead th {\n",
       "        text-align: right;\n",
       "    }\n",
       "</style>\n",
       "<table border=\"1\" class=\"dataframe\">\n",
       "  <thead>\n",
       "    <tr style=\"text-align: right;\">\n",
       "      <th></th>\n",
       "      <th>Name</th>\n",
       "      <th>Age</th>\n",
       "      <th>City</th>\n",
       "    </tr>\n",
       "  </thead>\n",
       "  <tbody>\n",
       "    <tr>\n",
       "      <th>1</th>\n",
       "      <td>Benita</td>\n",
       "      <td>26</td>\n",
       "      <td>Imo</td>\n",
       "    </tr>\n",
       "    <tr>\n",
       "      <th>2</th>\n",
       "      <td>Meenah</td>\n",
       "      <td>25</td>\n",
       "      <td>Lagos</td>\n",
       "    </tr>\n",
       "    <tr>\n",
       "      <th>3</th>\n",
       "      <td>Grace</td>\n",
       "      <td>32</td>\n",
       "      <td>Delta</td>\n",
       "    </tr>\n",
       "  </tbody>\n",
       "</table>\n",
       "</div>"
      ],
      "text/plain": [
       "     Name  Age   City\n",
       "1  Benita   26    Imo\n",
       "2  Meenah   25  Lagos\n",
       "3   Grace   32  Delta"
      ]
     },
     "execution_count": 15,
     "metadata": {},
     "output_type": "execute_result"
    }
   ],
   "source": [
    "User_Batch3"
   ]
  },
  {
   "cell_type": "code",
   "execution_count": 17,
   "id": "27c4a837-c978-430e-a0fb-de4c4bb191d2",
   "metadata": {},
   "outputs": [],
   "source": [
    "# Creating a DataFrame from a List of Lists (With column names)\n",
    "data4 = [\n",
    "    ['Waheed', 25, 'Lagos'],\n",
    "    ['Abel', 29, 'Delta'],\n",
    "    ['Ariyo', 40, 'Abeokuta']\n",
    "]"
   ]
  },
  {
   "cell_type": "code",
   "execution_count": 21,
   "id": "d5cfca21-415b-40fb-9968-51a432e16ea3",
   "metadata": {},
   "outputs": [],
   "source": [
    "User_Batch4 = pd.DataFrame(data4, index=[1,2,3], columns=['Names', 'Age', 'City'])"
   ]
  },
  {
   "cell_type": "code",
   "execution_count": 22,
   "id": "9236a894-4f39-493e-b7e2-c4daeffd3ef7",
   "metadata": {},
   "outputs": [
    {
     "data": {
      "text/html": [
       "<div>\n",
       "<style scoped>\n",
       "    .dataframe tbody tr th:only-of-type {\n",
       "        vertical-align: middle;\n",
       "    }\n",
       "\n",
       "    .dataframe tbody tr th {\n",
       "        vertical-align: top;\n",
       "    }\n",
       "\n",
       "    .dataframe thead th {\n",
       "        text-align: right;\n",
       "    }\n",
       "</style>\n",
       "<table border=\"1\" class=\"dataframe\">\n",
       "  <thead>\n",
       "    <tr style=\"text-align: right;\">\n",
       "      <th></th>\n",
       "      <th>Names</th>\n",
       "      <th>Age</th>\n",
       "      <th>City</th>\n",
       "    </tr>\n",
       "  </thead>\n",
       "  <tbody>\n",
       "    <tr>\n",
       "      <th>1</th>\n",
       "      <td>Waheed</td>\n",
       "      <td>25</td>\n",
       "      <td>Lagos</td>\n",
       "    </tr>\n",
       "    <tr>\n",
       "      <th>2</th>\n",
       "      <td>Abel</td>\n",
       "      <td>29</td>\n",
       "      <td>Delta</td>\n",
       "    </tr>\n",
       "    <tr>\n",
       "      <th>3</th>\n",
       "      <td>Ariyo</td>\n",
       "      <td>40</td>\n",
       "      <td>Abeokuta</td>\n",
       "    </tr>\n",
       "  </tbody>\n",
       "</table>\n",
       "</div>"
      ],
      "text/plain": [
       "    Names  Age      City\n",
       "1  Waheed   25     Lagos\n",
       "2    Abel   29     Delta\n",
       "3   Ariyo   40  Abeokuta"
      ]
     },
     "execution_count": 22,
     "metadata": {},
     "output_type": "execute_result"
    }
   ],
   "source": [
    "User_Batch4"
   ]
  },
  {
   "cell_type": "code",
   "execution_count": 25,
   "id": "ab836734-7934-4323-92fa-15126e81cda4",
   "metadata": {},
   "outputs": [
    {
     "data": {
      "text/plain": [
       "Names     Abel\n",
       "Age         29\n",
       "City     Delta\n",
       "Name: 2, dtype: object"
      ]
     },
     "execution_count": 25,
     "metadata": {},
     "output_type": "execute_result"
    }
   ],
   "source": [
    "# Accessing row by Label\n",
    "User_Batch4.loc[2]"
   ]
  },
  {
   "cell_type": "code",
   "execution_count": 26,
   "id": "cf67a1b6-8624-4ee6-97d0-2279d9f00adc",
   "metadata": {},
   "outputs": [
    {
     "data": {
      "text/plain": [
       "Names       Ariyo\n",
       "Age            40\n",
       "City     Abeokuta\n",
       "Name: 3, dtype: object"
      ]
     },
     "execution_count": 26,
     "metadata": {},
     "output_type": "execute_result"
    }
   ],
   "source": [
    "# Accessing row by position\n",
    "User_Batch4.iloc[2]"
   ]
  },
  {
   "cell_type": "code",
   "execution_count": 29,
   "id": "8545b676-bd0b-4b34-aa4a-7be69bbf597d",
   "metadata": {},
   "outputs": [
    {
     "data": {
      "text/html": [
       "<div>\n",
       "<style scoped>\n",
       "    .dataframe tbody tr th:only-of-type {\n",
       "        vertical-align: middle;\n",
       "    }\n",
       "\n",
       "    .dataframe tbody tr th {\n",
       "        vertical-align: top;\n",
       "    }\n",
       "\n",
       "    .dataframe thead th {\n",
       "        text-align: right;\n",
       "    }\n",
       "</style>\n",
       "<table border=\"1\" class=\"dataframe\">\n",
       "  <thead>\n",
       "    <tr style=\"text-align: right;\">\n",
       "      <th></th>\n",
       "      <th>Names</th>\n",
       "      <th>Age</th>\n",
       "      <th>City</th>\n",
       "    </tr>\n",
       "  </thead>\n",
       "  <tbody>\n",
       "    <tr>\n",
       "      <th>2</th>\n",
       "      <td>Abel</td>\n",
       "      <td>29</td>\n",
       "      <td>Delta</td>\n",
       "    </tr>\n",
       "    <tr>\n",
       "      <th>3</th>\n",
       "      <td>Ariyo</td>\n",
       "      <td>40</td>\n",
       "      <td>Abeokuta</td>\n",
       "    </tr>\n",
       "  </tbody>\n",
       "</table>\n",
       "</div>"
      ],
      "text/plain": [
       "   Names  Age      City\n",
       "2   Abel   29     Delta\n",
       "3  Ariyo   40  Abeokuta"
      ]
     },
     "execution_count": 29,
     "metadata": {},
     "output_type": "execute_result"
    }
   ],
   "source": [
    "# Fitering rows\n",
    "User_Batch4[User_Batch4['Age'] > 25]"
   ]
  },
  {
   "cell_type": "code",
   "execution_count": 30,
   "id": "7d69d3de-9854-42b4-a357-9faa29e18ed5",
   "metadata": {},
   "outputs": [
    {
     "data": {
      "text/html": [
       "<div>\n",
       "<style scoped>\n",
       "    .dataframe tbody tr th:only-of-type {\n",
       "        vertical-align: middle;\n",
       "    }\n",
       "\n",
       "    .dataframe tbody tr th {\n",
       "        vertical-align: top;\n",
       "    }\n",
       "\n",
       "    .dataframe thead th {\n",
       "        text-align: right;\n",
       "    }\n",
       "</style>\n",
       "<table border=\"1\" class=\"dataframe\">\n",
       "  <thead>\n",
       "    <tr style=\"text-align: right;\">\n",
       "      <th></th>\n",
       "      <th>Names</th>\n",
       "      <th>Age</th>\n",
       "      <th>City</th>\n",
       "    </tr>\n",
       "  </thead>\n",
       "  <tbody>\n",
       "    <tr>\n",
       "      <th>3</th>\n",
       "      <td>Ariyo</td>\n",
       "      <td>40</td>\n",
       "      <td>Abeokuta</td>\n",
       "    </tr>\n",
       "  </tbody>\n",
       "</table>\n",
       "</div>"
      ],
      "text/plain": [
       "   Names  Age      City\n",
       "3  Ariyo   40  Abeokuta"
      ]
     },
     "execution_count": 30,
     "metadata": {},
     "output_type": "execute_result"
    }
   ],
   "source": [
    "# Filtering rows by string\n",
    "User_Batch4[User_Batch4['City'] == 'Abeokuta']"
   ]
  },
  {
   "cell_type": "code",
   "execution_count": 31,
   "id": "25ce4f04-f7cb-4407-8726-ca0c355d63bf",
   "metadata": {},
   "outputs": [
    {
     "data": {
      "text/html": [
       "<div>\n",
       "<style scoped>\n",
       "    .dataframe tbody tr th:only-of-type {\n",
       "        vertical-align: middle;\n",
       "    }\n",
       "\n",
       "    .dataframe tbody tr th {\n",
       "        vertical-align: top;\n",
       "    }\n",
       "\n",
       "    .dataframe thead th {\n",
       "        text-align: right;\n",
       "    }\n",
       "</style>\n",
       "<table border=\"1\" class=\"dataframe\">\n",
       "  <thead>\n",
       "    <tr style=\"text-align: right;\">\n",
       "      <th></th>\n",
       "      <th>Names</th>\n",
       "      <th>Age</th>\n",
       "      <th>City</th>\n",
       "    </tr>\n",
       "  </thead>\n",
       "  <tbody>\n",
       "    <tr>\n",
       "      <th>2</th>\n",
       "      <td>Abel</td>\n",
       "      <td>29</td>\n",
       "      <td>Delta</td>\n",
       "    </tr>\n",
       "  </tbody>\n",
       "</table>\n",
       "</div>"
      ],
      "text/plain": [
       "  Names  Age   City\n",
       "2  Abel   29  Delta"
      ]
     },
     "execution_count": 31,
     "metadata": {},
     "output_type": "execute_result"
    }
   ],
   "source": [
    "# Filtering rows with Mulitple Conditions\n",
    "User_Batch4[(User_Batch4['Age'] > 25) & (User_Batch4['City'] == 'Delta')]"
   ]
  },
  {
   "cell_type": "markdown",
   "id": "cbd3955b-e3b8-4181-9ece-b55fe99a25a4",
   "metadata": {},
   "source": [
    "## Plotting a Histogram of a Column"
   ]
  },
  {
   "cell_type": "code",
   "execution_count": 40,
   "id": "3e8639bf-a797-473e-83b9-ebb043244efc",
   "metadata": {},
   "outputs": [],
   "source": [
    "df = pd.DataFrame({\n",
    "    'Scores': [75, 80, 70, 95, 69, 88, 90, 77, 89, 95]\n",
    "})"
   ]
  },
  {
   "cell_type": "code",
   "execution_count": 43,
   "id": "61592c8a-610a-496a-aedd-6905c577bb4d",
   "metadata": {},
   "outputs": [
    {
     "data": {
      "text/plain": [
       "<Axes: title={'center': 'Score Distribution'}, ylabel='Frequency'>"
      ]
     },
     "execution_count": 43,
     "metadata": {},
     "output_type": "execute_result"
    },
    {
     "data": {
      "image/png": "[encoded data removed]",
      "text/plain": [
       "<Figure size 640x480 with 1 Axes>"
      ]
     },
     "metadata": {},
     "output_type": "display_data"
    }
   ],
   "source": [
    "# Creating Histogram Directly\n",
    "df['Scores'].plot(kind='hist', bins=5, title= \"Score Distribution\")"
   ]
  },
  {
   "cell_type": "code",
   "execution_count": null,
   "id": "59b2605f-1472-4986-b93f-bdf18199c6ae",
   "metadata": {},
   "outputs": [],
   "source": []
  }
 ],
 "metadata": {
  "kernelspec": {
   "display_name": "Python 3 (ipykernel)",
   "language": "python",
   "name": "python3"
  },
  "language_info": {
   "codemirror_mode": {
    "name": "ipython",
    "version": 3
   },
   "file_extension": ".py",
   "mimetype": "text/x-python",
   "name": "python",
   "nbconvert_exporter": "python",
   "pygments_lexer": "ipython3",
   "version": "3.13.2"
  }
 },
 "nbformat": 4,
 "nbformat_minor": 5
}
