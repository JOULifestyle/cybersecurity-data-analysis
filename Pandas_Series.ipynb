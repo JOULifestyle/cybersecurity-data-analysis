{
 "cells": [
  {
   "cell_type": "markdown",
   "id": "1451c9af-44fd-4b7a-8641-4257e28affaf",
   "metadata": {},
   "source": [
    "# Creating a pandas series"
   ]
  },
  {
   "cell_type": "code",
   "execution_count": 1,
   "id": "cc892971-f837-49e2-a5b9-99706f7b79c1",
   "metadata": {},
   "outputs": [],
   "source": [
    "# Importing pandas\n",
    "import pandas as pd"
   ]
  },
  {
   "cell_type": "code",
   "execution_count": 2,
   "id": "91ec410f-d04f-473c-ad89-467dd3217d21",
   "metadata": {},
   "outputs": [],
   "source": [
    "# Creating a pandas series from a list\n",
    "numbers = pd.Series([10, 20, 30, 40])"
   ]
  },
  {
   "cell_type": "code",
   "execution_count": 3,
   "id": "f440d998-a680-420a-bf67-70a0d6002a22",
   "metadata": {},
   "outputs": [
    {
     "data": {
      "text/plain": [
       "0    10\n",
       "1    20\n",
       "2    30\n",
       "3    40\n",
       "dtype: int64"
      ]
     },
     "execution_count": 3,
     "metadata": {},
     "output_type": "execute_result"
    }
   ],
   "source": [
    "numbers\n"
   ]
  },
  {
   "cell_type": "code",
   "execution_count": 20,
   "id": "69438542-77ba-4d28-8291-009a4995fea4",
   "metadata": {},
   "outputs": [
    {
     "name": "stdout",
     "output_type": "stream",
     "text": [
      "1    20\n",
      "2    30\n",
      "dtype: int64\n"
     ]
    }
   ],
   "source": [
    "# Slicing a Series\n",
    "print(numbers[1:3])"
   ]
  },
  {
   "cell_type": "code",
   "execution_count": 4,
   "id": "9dae6065-765e-4a27-984b-405237e4b652",
   "metadata": {},
   "outputs": [],
   "source": [
    "# Creating a Pandas Series from a List Variable\n",
    "data = [10, 20, 30, 40, \"Fifty\"]\n",
    "series = pd.Series(data)"
   ]
  },
  {
   "cell_type": "code",
   "execution_count": 5,
   "id": "d64a18de-e9b5-4bb9-9527-7fbb1023133e",
   "metadata": {},
   "outputs": [
    {
     "data": {
      "text/plain": [
       "0       10\n",
       "1       20\n",
       "2       30\n",
       "3       40\n",
       "4    Fifty\n",
       "dtype: object"
      ]
     },
     "execution_count": 5,
     "metadata": {},
     "output_type": "execute_result"
    }
   ],
   "source": [
    "series"
   ]
  },
  {
   "cell_type": "code",
   "execution_count": 6,
   "id": "463bb4f0-946a-4f7f-a63c-5e6913a943f1",
   "metadata": {},
   "outputs": [],
   "source": [
    "# Creating a Pandas Series from a Dictionary\n",
    "my_dict = {\"Apples\":10, \"Oranges\":20, \"Bananas\":30}\n",
    "fruits = pd.Series(my_dict)"
   ]
  },
  {
   "cell_type": "code",
   "execution_count": 7,
   "id": "150bc6cc-06d0-402e-865e-d4e6119a4503",
   "metadata": {},
   "outputs": [
    {
     "data": {
      "text/plain": [
       "Apples     10\n",
       "Oranges    20\n",
       "Bananas    30\n",
       "dtype: int64"
      ]
     },
     "execution_count": 7,
     "metadata": {},
     "output_type": "execute_result"
    }
   ],
   "source": [
    "fruits"
   ]
  },
  {
   "cell_type": "code",
   "execution_count": 11,
   "id": "33f4de93-cc46-4cfb-b872-154c9ab5a915",
   "metadata": {},
   "outputs": [],
   "source": [
    "# Creating a Pandas Series from a String\n",
    "string = [\"The name of the car is RX350\", \"The color is Black\", \"It is brand new\"]\n",
    "Car_details = pd.Series(string)"
   ]
  },
  {
   "cell_type": "code",
   "execution_count": 12,
   "id": "ccd94b3d-1259-43d2-84ef-a8b4817c96a4",
   "metadata": {},
   "outputs": [
    {
     "data": {
      "text/plain": [
       "0    The name of the car is RX350\n",
       "1              The color is Black\n",
       "2                 It is brand new\n",
       "dtype: object"
      ]
     },
     "execution_count": 12,
     "metadata": {},
     "output_type": "execute_result"
    }
   ],
   "source": [
    "Car_details"
   ]
  },
  {
   "cell_type": "code",
   "execution_count": 13,
   "id": "e7d49241-e3b2-4b26-ad31-c40672c79371",
   "metadata": {},
   "outputs": [],
   "source": [
    "# Creating a Pandas series from Booleans\n",
    "passed = pd.Series([True, False, True])"
   ]
  },
  {
   "cell_type": "code",
   "execution_count": 14,
   "id": "d1f87255-b943-43c4-9c8b-4cd1532e7ff6",
   "metadata": {},
   "outputs": [
    {
     "data": {
      "text/plain": [
       "0     True\n",
       "1    False\n",
       "2     True\n",
       "dtype: bool"
      ]
     },
     "execution_count": 14,
     "metadata": {},
     "output_type": "execute_result"
    }
   ],
   "source": [
    "passed"
   ]
  },
  {
   "cell_type": "code",
   "execution_count": 15,
   "id": "92a282d6-3b93-4567-add3-b91cbc3a3396",
   "metadata": {},
   "outputs": [],
   "source": [
    "# Creating a Pandas Series with Custom Labels (Indexes)\n",
    "grades = pd.Series ([85, 90, 78], index=[\"Math\", \"English\", \"Science\"])\n"
   ]
  },
  {
   "cell_type": "code",
   "execution_count": 16,
   "id": "653fa18b-2944-418c-9585-7b69b94f5316",
   "metadata": {},
   "outputs": [
    {
     "data": {
      "text/plain": [
       "Math       85\n",
       "English    90\n",
       "Science    78\n",
       "dtype: int64"
      ]
     },
     "execution_count": 16,
     "metadata": {},
     "output_type": "execute_result"
    }
   ],
   "source": [
    "grades"
   ]
  },
  {
   "cell_type": "code",
   "execution_count": 19,
   "id": "3549f632-9491-40a0-abdd-e25c6efd0fc6",
   "metadata": {},
   "outputs": [
    {
     "name": "stdout",
     "output_type": "stream",
     "text": [
      "90\n"
     ]
    }
   ],
   "source": [
    "# Accessing Series Elements by Indexes\n",
    "print(grades['English'])"
   ]
  },
  {
   "cell_type": "code",
   "execution_count": 21,
   "id": "6d6d14ea-f156-468f-bc25-d08b5a8f47c8",
   "metadata": {},
   "outputs": [],
   "source": [
    "# Performing an Addition Operation on a series\n",
    "new_grades = grades + 10"
   ]
  },
  {
   "cell_type": "code",
   "execution_count": 22,
   "id": "1997248b-86c1-4d78-ae1a-9a7acd7df0fd",
   "metadata": {},
   "outputs": [
    {
     "name": "stdout",
     "output_type": "stream",
     "text": [
      "Math        95\n",
      "English    100\n",
      "Science     88\n",
      "dtype: int64\n"
     ]
    }
   ],
   "source": [
    "print(new_grades)"
   ]
  },
  {
   "cell_type": "code",
   "execution_count": 33,
   "id": "16a80328-8012-4abf-90e6-1ce26af0135b",
   "metadata": {},
   "outputs": [],
   "source": [
    "# Trying to perform the Addition on a particular index\n",
    "grades['Science'] = grades['Science'] + 10"
   ]
  },
  {
   "cell_type": "code",
   "execution_count": 34,
   "id": "d746657c-8e94-448b-8f37-129751450c59",
   "metadata": {},
   "outputs": [
    {
     "name": "stdout",
     "output_type": "stream",
     "text": [
      "88\n"
     ]
    }
   ],
   "source": [
    "print(new_grade)"
   ]
  },
  {
   "cell_type": "code",
   "execution_count": 35,
   "id": "463f0c89-f349-49ed-8708-ce0ac01688b3",
   "metadata": {},
   "outputs": [
    {
     "data": {
      "text/plain": [
       "Math       85\n",
       "English    90\n",
       "Science    88\n",
       "dtype: int64"
      ]
     },
     "execution_count": 35,
     "metadata": {},
     "output_type": "execute_result"
    }
   ],
   "source": [
    "grades"
   ]
  },
  {
   "cell_type": "code",
   "execution_count": 36,
   "id": "7fc0210d-0f96-49b8-b62f-78d674b86e87",
   "metadata": {},
   "outputs": [
    {
     "name": "stdout",
     "output_type": "stream",
     "text": [
      "87.66666666666667\n",
      "90\n",
      "85\n"
     ]
    }
   ],
   "source": [
    "# Performing some Descriptive Tasks\n",
    "print(grades.mean())\n",
    "print(grades.max())\n",
    "print(grades.min())"
   ]
  },
  {
   "cell_type": "code",
   "execution_count": 37,
   "id": "61a212b4-4eff-4570-a6bc-ceb9c37455d3",
   "metadata": {},
   "outputs": [
    {
     "name": "stdout",
     "output_type": "stream",
     "text": [
      "Math       85\n",
      "English    90\n",
      "Science    88\n",
      "dtype: int64\n"
     ]
    }
   ],
   "source": [
    "# Performing Filtering Based on Conditions\n",
    "print(grades[grades > 80])"
   ]
  },
  {
   "cell_type": "code",
   "execution_count": null,
   "id": "a1c7f656-13f7-475b-8a79-e29ade711f5c",
   "metadata": {},
   "outputs": [],
   "source": []
  }
 ],
 "metadata": {
  "kernelspec": {
   "display_name": "Python 3 (ipykernel)",
   "language": "python",
   "name": "python3"
  },
  "language_info": {
   "codemirror_mode": {
    "name": "ipython",
    "version": 3
   },
   "file_extension": ".py",
   "mimetype": "text/x-python",
   "name": "python",
   "nbconvert_exporter": "python",
   "pygments_lexer": "ipython3",
   "version": "3.13.2"
  }
 },
 "nbformat": 4,
 "nbformat_minor": 5
}
